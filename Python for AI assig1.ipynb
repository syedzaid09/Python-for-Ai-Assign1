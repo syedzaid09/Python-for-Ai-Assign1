{
 "cells": [
  {
   "cell_type": "markdown",
   "id": "76cfcd93",
   "metadata": {},
   "source": [
    "# Qus.1"
   ]
  },
  {
   "cell_type": "code",
   "execution_count": 24,
   "id": "0599fb1c",
   "metadata": {},
   "outputs": [
    {
     "name": "stdout",
     "output_type": "stream",
     "text": [
      "Enter the first number:10\n",
      "Enter the second number:20\n",
      "Enter the third number:30\n",
      "The largest number is: 30.0\n"
     ]
    }
   ],
   "source": [
    "n1=float(input(\"Enter the first number:\"))\n",
    "n2=float(input(\"Enter the second number:\"))\n",
    "n3=float(input(\"Enter the third number:\"))\n",
    "\n",
    "if n1>=n2 and n1>=n3:\n",
    "    largest=n1\n",
    "elif n2>=n1 and n2>=n3:\n",
    "    largest=n2\n",
    "else:\n",
    "    largest=n3\n",
    "    \n",
    "print(\"The largest number is:\",largest)"
   ]
  },
  {
   "cell_type": "markdown",
   "id": "0c1cbf9e",
   "metadata": {},
   "source": [
    "# Qus.2"
   ]
  },
  {
   "cell_type": "code",
   "execution_count": 2,
   "id": "5c052f4f",
   "metadata": {},
   "outputs": [
    {
     "name": "stdout",
     "output_type": "stream",
     "text": [
      "Enter a Year:2000\n",
      "2000 is a leap year\n"
     ]
    }
   ],
   "source": [
    "year=int(input(\"Enter a Year:\"))\n",
    "if(year%4==0 and year%100!=0) or (year%400==0):\n",
    "    print(year,\"is a leap year\")\n",
    "else:\n",
    "    print(year,\"is not a leap year\")"
   ]
  },
  {
   "cell_type": "markdown",
   "id": "983a7da5",
   "metadata": {},
   "source": [
    "# Qus.3"
   ]
  },
  {
   "cell_type": "code",
   "execution_count": 4,
   "id": "a6535b67",
   "metadata": {},
   "outputs": [
    {
     "name": "stdout",
     "output_type": "stream",
     "text": [
      "1\n",
      "22\n",
      "333\n",
      "4444\n",
      "55555\n"
     ]
    }
   ],
   "source": [
    "n=5\n",
    "for i in range(1,n+1):\n",
    "    print(str(i)* i)"
   ]
  },
  {
   "cell_type": "markdown",
   "id": "19f59e8e",
   "metadata": {},
   "source": [
    "# Qus.4"
   ]
  },
  {
   "cell_type": "code",
   "execution_count": 5,
   "id": "951e9b93",
   "metadata": {},
   "outputs": [
    {
     "name": "stdout",
     "output_type": "stream",
     "text": [
      "*\n",
      "**\n",
      "***\n",
      "****\n",
      "*****\n"
     ]
    }
   ],
   "source": [
    "n=5\n",
    "for i in range(1,n+1):\n",
    "    print(\"*\" * i)"
   ]
  },
  {
   "cell_type": "markdown",
   "id": "d54b6fc1",
   "metadata": {},
   "source": [
    "# Qus.5"
   ]
  },
  {
   "cell_type": "code",
   "execution_count": 9,
   "id": "b52c50c7",
   "metadata": {},
   "outputs": [
    {
     "name": "stdout",
     "output_type": "stream",
     "text": [
      "    *\n",
      "   **\n",
      "  ***\n",
      " ****\n",
      "*****\n"
     ]
    }
   ],
   "source": [
    "n=5\n",
    "for i in range(1,n+1):\n",
    "    print(\" \" * (n-i) +\"*\" * i)"
   ]
  },
  {
   "cell_type": "markdown",
   "id": "d780fb4a",
   "metadata": {},
   "source": [
    "# Qus.6"
   ]
  },
  {
   "cell_type": "code",
   "execution_count": 15,
   "id": "da1f9f8c",
   "metadata": {},
   "outputs": [
    {
     "name": "stdout",
     "output_type": "stream",
     "text": [
      "Enter the no.:2\n",
      "2\n"
     ]
    }
   ],
   "source": [
    "i=int(input(\"Enter the no.:\"))\n",
    "if i%3==0 and i%5==0:\n",
    "    print(\"FizzBuzz\")\n",
    "elif i%3==0:\n",
    "    print(\"Fizz\")\n",
    "elif i%5==0:\n",
    "    print(\"Buzz\")\n",
    "else:\n",
    "    print(i)"
   ]
  },
  {
   "cell_type": "markdown",
   "id": "26fc3ef0",
   "metadata": {},
   "source": [
    "# Qus.7"
   ]
  },
  {
   "cell_type": "code",
   "execution_count": 16,
   "id": "440fb6df",
   "metadata": {},
   "outputs": [
    {
     "name": "stdout",
     "output_type": "stream",
     "text": [
      "Enter a Number:5\n",
      "the sum of all prime numbers up to 5 is: 10\n"
     ]
    }
   ],
   "source": [
    "n=int(input(\"Enter a Number:\"))\n",
    "prime=0\n",
    "\n",
    "for i in range(2,n+1):\n",
    "    is_prime=True\n",
    "    \n",
    "    for j in range(2,int(i ** 0.5)+1):\n",
    "        if i%j==0:\n",
    "            is_prime=False\n",
    "            break\n",
    "    if is_prime:\n",
    "        prime=prime+i\n",
    "        \n",
    "print(\"the sum of all prime numbers up to\", n,\"is:\",prime)"
   ]
  },
  {
   "cell_type": "markdown",
   "id": "95ad41ce",
   "metadata": {},
   "source": [
    "# Qus.8"
   ]
  },
  {
   "cell_type": "code",
   "execution_count": 20,
   "id": "833755a1",
   "metadata": {},
   "outputs": [
    {
     "name": "stdout",
     "output_type": "stream",
     "text": [
      "Enter the numbers of terms:10\n",
      "Fibonacci sequence up to 10 terms:\n",
      "0 , 1,1,2,3,5,8,13,21,34,\n"
     ]
    }
   ],
   "source": [
    "n=int(input(\"Enter the numbers of terms:\"))\n",
    "a,b=0,1\n",
    "\n",
    "print(\"Fibonacci sequence up to\",n,\"terms:\")\n",
    "print(a,\",\",b, end=\",\")\n",
    "for i in range(2,n):\n",
    "    c=a+b\n",
    "    print(c,end=\",\")\n",
    "    a=b\n",
    "    b=c\n",
    "print()"
   ]
  },
  {
   "cell_type": "markdown",
   "id": "37d465a2",
   "metadata": {},
   "source": [
    "# Qus.9"
   ]
  },
  {
   "cell_type": "code",
   "execution_count": 21,
   "id": "2a1fc588",
   "metadata": {},
   "outputs": [
    {
     "name": "stdout",
     "output_type": "stream",
     "text": [
      "    *    \n",
      "   ***   \n",
      "  *****  \n",
      " ******* \n",
      "*********\n"
     ]
    }
   ],
   "source": [
    "n=5\n",
    "for i in range(1,n+1):\n",
    "    spaces=\" \" * (n-i)\n",
    "    stars=\"*\"*(2*i-1)\n",
    "    print(spaces+stars+spaces)"
   ]
  },
  {
   "cell_type": "markdown",
   "id": "a5546627",
   "metadata": {},
   "source": [
    "# Qus.10"
   ]
  },
  {
   "cell_type": "code",
   "execution_count": 23,
   "id": "3e97c03a",
   "metadata": {},
   "outputs": [
    {
     "name": "stdout",
     "output_type": "stream",
     "text": [
      "    A\n",
      "   BBB\n",
      "  CCCCC\n",
      " DDDDDDD\n",
      "EEEEEEEEE\n"
     ]
    }
   ],
   "source": [
    "n=5\n",
    "for i in range(n):\n",
    "    print(\" \"*(n-i-1)+chr(65+i)*(2*i+1))"
   ]
  },
  {
   "cell_type": "code",
   "execution_count": null,
   "id": "20e7d0ff",
   "metadata": {},
   "outputs": [],
   "source": []
  }
 ],
 "metadata": {
  "kernelspec": {
   "display_name": "Python 3 (ipykernel)",
   "language": "python",
   "name": "python3"
  },
  "language_info": {
   "codemirror_mode": {
    "name": "ipython",
    "version": 3
   },
   "file_extension": ".py",
   "mimetype": "text/x-python",
   "name": "python",
   "nbconvert_exporter": "python",
   "pygments_lexer": "ipython3",
   "version": "3.9.13"
  }
 },
 "nbformat": 4,
 "nbformat_minor": 5
}
